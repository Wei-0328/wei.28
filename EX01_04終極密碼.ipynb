{
  "nbformat": 4,
  "nbformat_minor": 0,
  "metadata": {
    "colab": {
      "provenance": [],
      "authorship_tag": "ABX9TyPjaTrtwlGTJyBgTdxoU2uS",
      "include_colab_link": true
    },
    "kernelspec": {
      "name": "python3",
      "display_name": "Python 3"
    },
    "language_info": {
      "name": "python"
    }
  },
  "cells": [
    {
      "cell_type": "markdown",
      "metadata": {
        "id": "view-in-github",
        "colab_type": "text"
      },
      "source": [
        "<a href=\"https://colab.research.google.com/github/Wei-0328/wei.28/blob/main/EX01_04%E7%B5%82%E6%A5%B5%E5%AF%86%E7%A2%BC.ipynb\" target=\"_parent\"><img src=\"https://colab.research.google.com/assets/colab-badge.svg\" alt=\"Open In Colab\"/></a>"
      ]
    },
    {
      "cell_type": "code",
      "execution_count": null,
      "metadata": {
        "id": "CHum6h_Z0Jne"
      },
      "outputs": [],
      "source": []
    },
    {
      "cell_type": "code",
      "source": [
        "import random\n",
        "bomb=random.randint(1,99)\n",
        "\n",
        "lf=0\n",
        "rt=100\n",
        "while True:\n",
        "    print(lf,'-',rt)\n",
        "    gu=int(input('guess'))\n",
        "    if gu<=lf or gu>=rt:\n",
        "      print('超過範圍')\n",
        "    elif gu<bomb:\n",
        "      lf=gu\n",
        "    elif bomb<gu:\n",
        "      rt=gu\n",
        "    else:\n",
        "      print('猜中')\n",
        "      break"
      ],
      "metadata": {
        "colab": {
          "base_uri": "https://localhost:8080/"
        },
        "id": "vfrkppIk3vNJ",
        "outputId": "a0f760bb-e512-4a59-eea3-1e6613f80684"
      },
      "execution_count": null,
      "outputs": [
        {
          "output_type": "stream",
          "name": "stdout",
          "text": [
            "0 - 100\n"
          ]
        }
      ]
    }
  ]
}