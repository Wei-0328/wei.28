{
  "nbformat": 4,
  "nbformat_minor": 0,
  "metadata": {
    "colab": {
      "provenance": [],
      "authorship_tag": "ABX9TyM3udtf9UQFbvxWitEm3VdX",
      "include_colab_link": true
    },
    "kernelspec": {
      "name": "python3",
      "display_name": "Python 3"
    },
    "language_info": {
      "name": "python"
    }
  },
  "cells": [
    {
      "cell_type": "markdown",
      "metadata": {
        "id": "view-in-github",
        "colab_type": "text"
      },
      "source": [
        "<a href=\"https://colab.research.google.com/github/Wei-0328/wei.28/blob/main/EX01_02_BMI%E8%A8%88%E7%AE%97.ipynb\" target=\"_parent\"><img src=\"https://colab.research.google.com/assets/colab-badge.svg\" alt=\"Open In Colab\"/></a>"
      ]
    },
    {
      "cell_type": "code",
      "execution_count": null,
      "metadata": {
        "colab": {
          "base_uri": "https://localhost:8080/"
        },
        "id": "NLXlMWy9W4Ls",
        "outputId": "b50a774c-4e99-4600-8af3-6f74b18f2698"
      },
      "outputs": [
        {
          "output_type": "stream",
          "name": "stdout",
          "text": [
            "height(cm):168\n",
            "weight(kg):56.7\n",
            "BMI: 20.1\n"
          ]
        }
      ],
      "source": [
        "ht = float(input('height(cm):'))\n",
        "wt = float(input('weight(kg):'))\n",
        "bmi = wt/ (ht/100)**2\n",
        "print('BMI:',round(bmi,1))"
      ]
    }
  ]
}