{
 "cells": [
  {
   "cell_type": "markdown",
   "id": "611f18c8",
   "metadata": {},
   "source": [
    "\n",
    "# 104 人力銀行新北市行銷職缺分析\n",
    "\n",
    "本專案透過爬取 104 人力銀行上的新北市行銷/企劃類職缺資料，進行基本統整與分析，了解目前新北地區此領域的就業市場需求趨勢。資料包含公司名稱、職缺名稱、工作地點與待遇等資訊。\n"
   ]
  },
  {
   "cell_type": "code",
   "execution_count": null,
   "id": "e9d7f056",
   "metadata": {},
   "outputs": [],
   "source": [
    "\n",
    "import requests\n",
    "import pandas as pd\n",
    "\n",
    "headers = {\n",
    "    'User-Agent': 'Mozilla/5.0 (Windows NT 10.0; Win64; x64) AppleWebKit/537.36 (KHTML, like Gecko) Chrome/134.0.0.0 Safari/537.36',\n",
    "    'Referer': 'https://www.104.com.tw/'\n",
    "}\n",
    "\n",
    "df_list = []\n",
    "\n",
    "# 擷取新北市行銷/企劃類職缺，共 1~9 頁\n",
    "for page in range(1, 10):\n",
    "    url = f'https://www.104.com.tw/jobs/search/list?ro=1&indcat=1002000000&area=6001001000&order=11&asc=0&page={page}&mode=l'\n",
    "    resp = requests.get(url, headers=headers)\n",
    "\n",
    "    try:\n",
    "        jobs = resp.json()['data']['list']\n",
    "        ndf = pd.DataFrame(jobs)\n",
    "        df_list.append(ndf)\n",
    "\n",
    "        if ndf.shape[0] < 30:  # 提早結束擷取\n",
    "            break\n",
    "    except Exception as e:\n",
    "        print(f\"第 {page} 頁資料擷取失敗：{e}\")\n",
    "        break\n",
    "\n",
    "# 合併所有頁面資料\n",
    "df = pd.concat(df_list, ignore_index=True)\n",
    "\n",
    "# 篩選需要的欄位\n",
    "columns_to_show = ['jobName', 'companyName', 'salaryDesc', 'jobAddrNoDesc', 'description']\n",
    "df_selected = df[columns_to_show]\n",
    "\n",
    "df_selected.head()\n"
   ]
  },
  {
   "cell_type": "markdown",
   "id": "3837f95f",
   "metadata": {},
   "source": [
    "\n",
    "## 熱門職缺名稱統計\n",
    "以下統計顯示出現頻率最高的前 10 個職缺名稱。\n"
   ]
  },
  {
   "cell_type": "code",
   "execution_count": null,
   "id": "9173091b",
   "metadata": {},
   "outputs": [],
   "source": [
    "\n",
    "df_selected['jobName'].value_counts().head(10)\n"
   ]
  },
  {
   "cell_type": "markdown",
   "id": "215d84be",
   "metadata": {},
   "source": [
    "\n",
    "## 工作地點統計\n",
    "哪幾個行政區出現最多行銷相關職缺？\n"
   ]
  },
  {
   "cell_type": "code",
   "execution_count": null,
   "id": "4cd77853",
   "metadata": {},
   "outputs": [],
   "source": [
    "\n",
    "df_selected['jobAddrNoDesc'].value_counts().head(10)\n"
   ]
  },
  {
   "cell_type": "markdown",
   "id": "e5bd0c32",
   "metadata": {},
   "source": [
    "\n",
    "## 儲存結果至 CSV\n"
   ]
  },
  {
   "cell_type": "code",
   "execution_count": null,
   "id": "21cf79fc",
   "metadata": {},
   "outputs": [],
   "source": [
    "\n",
    "df_selected.to_csv(\"新北市行銷職缺_分析結果.csv\", index=False, encoding='utf-8-sig')\n"
   ]
  }
 ],
 "metadata": {},
 "nbformat": 4,
 "nbformat_minor": 5
}