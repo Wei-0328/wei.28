{
  "nbformat": 4,
  "nbformat_minor": 0,
  "metadata": {
    "colab": {
      "provenance": [],
      "authorship_tag": "ABX9TyMwDbwYxOtb/nnHQz7MV5wY",
      "include_colab_link": true
    },
    "kernelspec": {
      "name": "python3",
      "display_name": "Python 3"
    },
    "language_info": {
      "name": "python"
    }
  },
  "cells": [
    {
      "cell_type": "markdown",
      "metadata": {
        "id": "view-in-github",
        "colab_type": "text"
      },
      "source": [
        "<a href=\"https://colab.research.google.com/github/Wei-0328/wei.28/blob/main/EX01_03_Rock_Paper_Scissors.ipynb\" target=\"_parent\"><img src=\"https://colab.research.google.com/assets/colab-badge.svg\" alt=\"Open In Colab\"/></a>"
      ]
    },
    {
      "cell_type": "code",
      "execution_count": null,
      "metadata": {
        "colab": {
          "base_uri": "https://localhost:8080/"
        },
        "id": "dWPOH2PAat6u",
        "outputId": "4de356d1-fd4f-4151-ffef-cd0201e701e3"
      },
      "outputs": [
        {
          "output_type": "stream",
          "name": "stdout",
          "text": [
            "2\n",
            "computer: 2\n",
            "draw\n"
          ]
        }
      ],
      "source": [
        "import random\n",
        "\n",
        "ply=int(input())\n",
        "cmp=random.choice([0,2,5])\n",
        "print('computer:',cmp)\n",
        "if ply==cmp:\n",
        "    print('draw')\n",
        "elif(ply==0 and cmp ==2)or(ply==2 and cmp==5) or (ply==5 and cmp==0):\n",
        "    print('you win')\n",
        "else:\n",
        "    print('you lose')"
      ]
    }
  ]
}