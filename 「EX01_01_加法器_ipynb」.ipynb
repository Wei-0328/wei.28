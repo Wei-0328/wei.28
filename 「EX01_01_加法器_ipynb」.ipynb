{
  "nbformat": 4,
  "nbformat_minor": 0,
  "metadata": {
    "colab": {
      "provenance": [],
      "include_colab_link": true
    },
    "kernelspec": {
      "name": "python3",
      "display_name": "Python 3"
    },
    "language_info": {
      "name": "python"
    }
  },
  "cells": [
    {
      "cell_type": "markdown",
      "metadata": {
        "id": "view-in-github",
        "colab_type": "text"
      },
      "source": [
        "<a href=\"https://colab.research.google.com/github/Wei-0328/wei.28/blob/main/%E3%80%8CEX01_01_%E5%8A%A0%E6%B3%95%E5%99%A8_ipynb%E3%80%8D.ipynb\" target=\"_parent\"><img src=\"https://colab.research.google.com/assets/colab-badge.svg\" alt=\"Open In Colab\"/></a>"
      ]
    },
    {
      "cell_type": "code",
      "execution_count": null,
      "metadata": {
        "colab": {
          "base_uri": "https://localhost:8080/"
        },
        "id": "-w7oCDkG56-V",
        "outputId": "24a46f7f-f2b1-46c0-eb45-690af5888e12"
      },
      "outputs": [
        {
          "output_type": "stream",
          "name": "stdout",
          "text": [
            "2\n",
            "3\n",
            "5\n"
          ]
        }
      ],
      "source": [
        "# 取得整數一\n",
        "n1=int( input() )\n",
        "# 取得整數二\n",
        "n2=int( input() )\n",
        "\n",
        "# 把整數一和整數二相加\n",
        "tt=n1+n2\n",
        "\n",
        "# 輸出結果\n",
        "print(tt)\n",
        "\n"
      ]
    }
  ]
}